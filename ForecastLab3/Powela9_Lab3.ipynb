{
 "cells": [
  {
   "cell_type": "markdown",
   "metadata": {},
   "source": [
    "Prerequisites: Load Libraries "
   ]
  },
  {
   "cell_type": "code",
   "execution_count": null,
   "metadata": {},
   "outputs": [],
   "source": [
    "#Ensure all packages are downloaded\n",
    "%pip install pandas\n",
    "%pip install numpy\n",
    "%pip install statsmodels\n",
    "%pip install matplotlib\n",
    "%pip install scikit-learn"
   ]
  },
  {
   "cell_type": "code",
   "execution_count": 1,
   "metadata": {},
   "outputs": [],
   "source": [
    "#Import packages\n",
    "import pandas as pd\n",
    "import numpy as np\n",
    "\n",
    "from statsmodels.graphics.tsaplots import plot_acf\n",
    "from statsmodels.tsa.stattools import adfuller\n",
    "\n",
    "import matplotlib.pyplot as plt\n",
    "\n",
    "from sklearn.metrics import mean_squared_error\n",
    "\n",
    "import warnings\n",
    "warnings.filterwarnings('ignore')\n",
    "\n",
    "%matplotlib inline"
   ]
  },
  {
   "cell_type": "markdown",
   "metadata": {},
   "source": [
    "Question 1: Load csv file into Panadas dataframe"
   ]
  },
  {
   "cell_type": "code",
   "execution_count": 2,
   "metadata": {},
   "outputs": [
    {
     "data": {
      "text/html": [
       "<div>\n",
       "<style scoped>\n",
       "    .dataframe tbody tr th:only-of-type {\n",
       "        vertical-align: middle;\n",
       "    }\n",
       "\n",
       "    .dataframe tbody tr th {\n",
       "        vertical-align: top;\n",
       "    }\n",
       "\n",
       "    .dataframe thead th {\n",
       "        text-align: right;\n",
       "    }\n",
       "</style>\n",
       "<table border=\"1\" class=\"dataframe\">\n",
       "  <thead>\n",
       "    <tr style=\"text-align: right;\">\n",
       "      <th></th>\n",
       "      <th>Date</th>\n",
       "      <th>Open</th>\n",
       "      <th>High</th>\n",
       "      <th>Low</th>\n",
       "      <th>Close</th>\n",
       "      <th>Adj Close</th>\n",
       "      <th>Volume</th>\n",
       "    </tr>\n",
       "  </thead>\n",
       "  <tbody>\n",
       "    <tr>\n",
       "      <th>0</th>\n",
       "      <td>2020-04-27</td>\n",
       "      <td>1292.000000</td>\n",
       "      <td>1294.099976</td>\n",
       "      <td>1265.060059</td>\n",
       "      <td>1270.859985</td>\n",
       "      <td>1270.859985</td>\n",
       "      <td>2209300</td>\n",
       "    </tr>\n",
       "    <tr>\n",
       "      <th>1</th>\n",
       "      <td>2020-04-28</td>\n",
       "      <td>1283.199951</td>\n",
       "      <td>1284.760010</td>\n",
       "      <td>1230.380005</td>\n",
       "      <td>1232.589966</td>\n",
       "      <td>1232.589966</td>\n",
       "      <td>4035000</td>\n",
       "    </tr>\n",
       "    <tr>\n",
       "      <th>2</th>\n",
       "      <td>2020-04-29</td>\n",
       "      <td>1345.000000</td>\n",
       "      <td>1360.150024</td>\n",
       "      <td>1326.729980</td>\n",
       "      <td>1342.180054</td>\n",
       "      <td>1342.180054</td>\n",
       "      <td>5417900</td>\n",
       "    </tr>\n",
       "    <tr>\n",
       "      <th>3</th>\n",
       "      <td>2020-04-30</td>\n",
       "      <td>1331.359985</td>\n",
       "      <td>1350.000000</td>\n",
       "      <td>1321.500000</td>\n",
       "      <td>1346.699951</td>\n",
       "      <td>1346.699951</td>\n",
       "      <td>2792100</td>\n",
       "    </tr>\n",
       "    <tr>\n",
       "      <th>4</th>\n",
       "      <td>2020-05-01</td>\n",
       "      <td>1324.089966</td>\n",
       "      <td>1351.430054</td>\n",
       "      <td>1309.660034</td>\n",
       "      <td>1317.319946</td>\n",
       "      <td>1317.319946</td>\n",
       "      <td>2443600</td>\n",
       "    </tr>\n",
       "  </tbody>\n",
       "</table>\n",
       "</div>"
      ],
      "text/plain": [
       "         Date         Open         High          Low        Close  \\\n",
       "0  2020-04-27  1292.000000  1294.099976  1265.060059  1270.859985   \n",
       "1  2020-04-28  1283.199951  1284.760010  1230.380005  1232.589966   \n",
       "2  2020-04-29  1345.000000  1360.150024  1326.729980  1342.180054   \n",
       "3  2020-04-30  1331.359985  1350.000000  1321.500000  1346.699951   \n",
       "4  2020-05-01  1324.089966  1351.430054  1309.660034  1317.319946   \n",
       "\n",
       "     Adj Close   Volume  \n",
       "0  1270.859985  2209300  \n",
       "1  1232.589966  4035000  \n",
       "2  1342.180054  5417900  \n",
       "3  1346.699951  2792100  \n",
       "4  1317.319946  2443600  "
      ]
     },
     "execution_count": 2,
     "metadata": {},
     "output_type": "execute_result"
    }
   ],
   "source": [
    "google_data = pd.read_csv('Google.csv')\n",
    "\n",
    "#Check to ensure that file loaded\n",
    "google_data.head()"
   ]
  },
  {
   "cell_type": "markdown",
   "metadata": {},
   "source": [
    "Question 2: Divide the dataset into training and test"
   ]
  },
  {
   "cell_type": "code",
   "execution_count": 10,
   "metadata": {},
   "outputs": [
    {
     "data": {
      "text/html": [
       "<div>\n",
       "<style scoped>\n",
       "    .dataframe tbody tr th:only-of-type {\n",
       "        vertical-align: middle;\n",
       "    }\n",
       "\n",
       "    .dataframe tbody tr th {\n",
       "        vertical-align: top;\n",
       "    }\n",
       "\n",
       "    .dataframe thead th {\n",
       "        text-align: right;\n",
       "    }\n",
       "</style>\n",
       "<table border=\"1\" class=\"dataframe\">\n",
       "  <thead>\n",
       "    <tr style=\"text-align: right;\">\n",
       "      <th></th>\n",
       "      <th>Date</th>\n",
       "      <th>Close</th>\n",
       "    </tr>\n",
       "  </thead>\n",
       "  <tbody>\n",
       "    <tr>\n",
       "      <th>0</th>\n",
       "      <td>2020-04-27</td>\n",
       "      <td>1270.859985</td>\n",
       "    </tr>\n",
       "    <tr>\n",
       "      <th>1</th>\n",
       "      <td>2020-04-28</td>\n",
       "      <td>1232.589966</td>\n",
       "    </tr>\n",
       "    <tr>\n",
       "      <th>2</th>\n",
       "      <td>2020-04-29</td>\n",
       "      <td>1342.180054</td>\n",
       "    </tr>\n",
       "    <tr>\n",
       "      <th>3</th>\n",
       "      <td>2020-04-30</td>\n",
       "      <td>1346.699951</td>\n",
       "    </tr>\n",
       "    <tr>\n",
       "      <th>4</th>\n",
       "      <td>2020-05-01</td>\n",
       "      <td>1317.319946</td>\n",
       "    </tr>\n",
       "  </tbody>\n",
       "</table>\n",
       "</div>"
      ],
      "text/plain": [
       "         Date        Close\n",
       "0  2020-04-27  1270.859985\n",
       "1  2020-04-28  1232.589966\n",
       "2  2020-04-29  1342.180054\n",
       "3  2020-04-30  1346.699951\n",
       "4  2020-05-01  1317.319946"
      ]
     },
     "execution_count": 10,
     "metadata": {},
     "output_type": "execute_result"
    }
   ],
   "source": [
    "#Test set: Last 5 days of data\n",
    "test_data = google_data[['Date', 'Close']][-5:]\n",
    "test_data.head()\n",
    "\n",
    "#Training set: rest of data\n",
    "train_data = google_data[['Date', 'Close']][:-5]\n",
    "train_data.head()"
   ]
  },
  {
   "cell_type": "markdown",
   "metadata": {},
   "source": [
    "Question 3a: Forecast the last 5 days of the closing price using Naive Forecast"
   ]
  },
  {
   "cell_type": "code",
   "execution_count": null,
   "metadata": {},
   "outputs": [],
   "source": [
    "last_observed_value = train_data['Close'].iloc[-1]\n",
    "test_data.loc[:,'predicted_last'] = last_observed_value"
   ]
  },
  {
   "cell_type": "markdown",
   "metadata": {},
   "source": [
    "Question 3b: Forecast the last 5 days of the closing price using Historical Mean Forecast"
   ]
  },
  {
   "cell_type": "code",
   "execution_count": 12,
   "metadata": {},
   "outputs": [],
   "source": [
    "mean = np.mean(train_data['Close'])\n",
    "test_data.loc[:,'predicted_mean'] = mean"
   ]
  },
  {
   "cell_type": "code",
   "execution_count": 18,
   "metadata": {},
   "outputs": [
    {
     "data": {
      "text/html": [
       "<div>\n",
       "<style scoped>\n",
       "    .dataframe tbody tr th:only-of-type {\n",
       "        vertical-align: middle;\n",
       "    }\n",
       "\n",
       "    .dataframe tbody tr th {\n",
       "        vertical-align: top;\n",
       "    }\n",
       "\n",
       "    .dataframe thead th {\n",
       "        text-align: right;\n",
       "    }\n",
       "</style>\n",
       "<table border=\"1\" class=\"dataframe\">\n",
       "  <thead>\n",
       "    <tr style=\"text-align: right;\">\n",
       "      <th></th>\n",
       "      <th>Date</th>\n",
       "      <th>Close</th>\n",
       "      <th>predicted_last</th>\n",
       "      <th>predicted_mean</th>\n",
       "    </tr>\n",
       "  </thead>\n",
       "  <tbody>\n",
       "    <tr>\n",
       "      <th>248</th>\n",
       "      <td>2021-04-21</td>\n",
       "      <td>2278.350098</td>\n",
       "      <td>2279.01001</td>\n",
       "      <td>1689.993184</td>\n",
       "    </tr>\n",
       "    <tr>\n",
       "      <th>249</th>\n",
       "      <td>2021-04-22</td>\n",
       "      <td>2252.520020</td>\n",
       "      <td>2279.01001</td>\n",
       "      <td>1689.993184</td>\n",
       "    </tr>\n",
       "    <tr>\n",
       "      <th>250</th>\n",
       "      <td>2021-04-23</td>\n",
       "      <td>2299.929932</td>\n",
       "      <td>2279.01001</td>\n",
       "      <td>1689.993184</td>\n",
       "    </tr>\n",
       "    <tr>\n",
       "      <th>251</th>\n",
       "      <td>2021-04-26</td>\n",
       "      <td>2309.929932</td>\n",
       "      <td>2279.01001</td>\n",
       "      <td>1689.993184</td>\n",
       "    </tr>\n",
       "    <tr>\n",
       "      <th>252</th>\n",
       "      <td>2021-04-27</td>\n",
       "      <td>2290.979980</td>\n",
       "      <td>2279.01001</td>\n",
       "      <td>1689.993184</td>\n",
       "    </tr>\n",
       "  </tbody>\n",
       "</table>\n",
       "</div>"
      ],
      "text/plain": [
       "           Date        Close  predicted_last  predicted_mean\n",
       "248  2021-04-21  2278.350098      2279.01001     1689.993184\n",
       "249  2021-04-22  2252.520020      2279.01001     1689.993184\n",
       "250  2021-04-23  2299.929932      2279.01001     1689.993184\n",
       "251  2021-04-26  2309.929932      2279.01001     1689.993184\n",
       "252  2021-04-27  2290.979980      2279.01001     1689.993184"
      ]
     },
     "execution_count": 18,
     "metadata": {},
     "output_type": "execute_result"
    }
   ],
   "source": [
    "test_data"
   ]
  },
  {
   "cell_type": "markdown",
   "metadata": {},
   "source": [
    "Question 4: Using Mean Squared Error, evaluate both methods"
   ]
  },
  {
   "cell_type": "code",
   "execution_count": 14,
   "metadata": {},
   "outputs": [
    {
     "name": "stdout",
     "output_type": "stream",
     "text": [
      "MSE for Naive Forecast: 447.82398976418415\n"
     ]
    }
   ],
   "source": [
    "#Evaluate Mean Squared Error for Naive forecast\n",
    "mse_naive = mean_squared_error(test_data['Close'], test_data['predicted_last'])\n",
    "print(\"MSE for Naive Forecast:\", mse_naive)"
   ]
  },
  {
   "cell_type": "code",
   "execution_count": 15,
   "metadata": {},
   "outputs": [
    {
     "name": "stdout",
     "output_type": "stream",
     "text": [
      "MSE for Historical Mean Forecast: 356025.96701539395\n"
     ]
    }
   ],
   "source": [
    "#Mean Squared Error for Historical Mean Forecast\n",
    "mse_historical = mean_squared_error(test_data['Close'], test_data['predicted_mean'])\n",
    "print(\"MSE for Historical Mean Forecast:\", mse_historical)"
   ]
  },
  {
   "cell_type": "markdown",
   "metadata": {},
   "source": [
    "Question 5: Which method is better"
   ]
  },
  {
   "cell_type": "markdown",
   "metadata": {},
   "source": [
    "The better forecast is Naive Forecast because it has a lower MSE. Meaning that the predictions are much closer to the actual values of the Close prices."
   ]
  },
  {
   "cell_type": "markdown",
   "metadata": {},
   "source": [
    "Question 6a: Plot Naive Forecast"
   ]
  },
  {
   "cell_type": "code",
   "execution_count": 23,
   "metadata": {},
   "outputs": [
    {
     "data": {
      "text/plain": [
       "[]"
      ]
     },
     "execution_count": 23,
     "metadata": {},
     "output_type": "execute_result"
    },
    {
     "data": {
      "image/png": "[encoded data removed]",
      "text/plain": [
       "<Figure size 640x480 with 1 Axes>"
      ]
     },
     "metadata": {},
     "output_type": "display_data"
    }
   ],
   "source": [
    "fig, ax = plt.subplots()\n",
    "ax.plot(train_data['Close'],'b-')\n",
    "ax.plot(test_data['Close'], 'b-')\n",
    "ax.plot(test_data['predicted_last'], 'g--', label = 'Last value')\n",
    "\n",
    "ax.axvspan(248, 252, color='#FFF0F5', alpha=0.2)\n",
    "ax.legend(loc=2)\n",
    "\n",
    "ax.set_xlabel('Timesteps')\n",
    "ax.set_ylabel('Value')\n",
    "\n",
    "plt.xlim(230,252)\n",
    "plt.tight_layout()\n",
    "plt.plot()"
   ]
  },
  {
   "cell_type": "markdown",
   "metadata": {},
   "source": [
    "Question 6b: Plot Historical Mean Forecast"
   ]
  },
  {
   "cell_type": "code",
   "execution_count": 24,
   "metadata": {},
   "outputs": [
    {
     "data": {
      "text/plain": [
       "[]"
      ]
     },
     "execution_count": 24,
     "metadata": {},
     "output_type": "execute_result"
    },
    {
     "data": {
      "image/png": "[encoded data removed]",
      "text/plain": [
       "<Figure size 640x480 with 1 Axes>"
      ]
     },
     "metadata": {},
     "output_type": "display_data"
    }
   ],
   "source": [
    "fig, ax = plt.subplots()\n",
    "ax.plot(train_data['Close'],'b-')\n",
    "ax.plot(test_data['Close'], 'b-')\n",
    "ax.plot(test_data['predicted_mean'], 'r-.', label = 'Mean')\n",
    "\n",
    "ax.axvspan(248, 252, color='#FFF0F5', alpha=0.2)\n",
    "ax.legend(loc=2)\n",
    "\n",
    "ax.set_xlabel('Timesteps')\n",
    "ax.set_ylabel('Value')\n",
    "\n",
    "plt.xlim(230,252)\n",
    "plt.tight_layout()\n",
    "plt.plot()"
   ]
  }
 ],
 "metadata": {
  "kernelspec": {
   "display_name": ".venv",
   "language": "python",
   "name": "python3"
  },
  "language_info": {
   "codemirror_mode": {
    "name": "ipython",
    "version": 3
   },
   "file_extension": ".py",
   "mimetype": "text/x-python",
   "name": "python",
   "nbconvert_exporter": "python",
   "pygments_lexer": "ipython3",
   "version": "3.12.5"
  }
 },
 "nbformat": 4,
 "nbformat_minor": 2
}
