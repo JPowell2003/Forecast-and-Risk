{
 "cells": [
  {
   "cell_type": "code",
   "execution_count": 2,
   "metadata": {},
   "outputs": [],
   "source": [
    "#Step 1: Create a new file using the open method\n",
    "fp = open('ForecastingLab1.txt', 'w')"
   ]
  },
  {
   "cell_type": "code",
   "execution_count": 3,
   "metadata": {},
   "outputs": [],
   "source": [
    "#Step 2: Write ten rows to the new file\n",
    "fp.write(\"This is my first line written!\\n\")\n",
    "fp.write(\"This is my second line written!\\n\")\n",
    "fp.write(\"This is my third line written!\\n\")\n",
    "fp.write(\"This is my fourth line written!\\n\")\n",
    "fp.write(\"This is my fifth line written!\\n\")\n",
    "fp.write(\"This is my sixth line written!\\n\")\n",
    "fp.write(\"This is my seventh line written!\\n\")\n",
    "fp.write(\"This is my eighth line written!\\n\")\n",
    "fp.write(\"This is my ninth line written!\\n\")\n",
    "fp.write(\"This is my tenth line written!\")\n",
    "fp.close()"
   ]
  },
  {
   "cell_type": "code",
   "execution_count": 5,
   "metadata": {},
   "outputs": [
    {
     "name": "stdout",
     "output_type": "stream",
     "text": [
      "This is my first line written!\n",
      "This is my second line written!\n",
      "This is my third line written!\n",
      "This is my fourth line written!\n",
      "This is my fifth line written!\n",
      "This is my sixth line written!\n",
      "This is my seventh line written!\n",
      "This is my eighth line written!\n",
      "This is my ninth line written!\n",
      "This is my tenth line written!\n"
     ]
    }
   ],
   "source": [
    "#Step 3 and 4: Open file for read only and print all rows\n",
    "with open('ForecastingLab1.txt', 'r') as file:\n",
    "    content = file.readlines()\n",
    "    for line in content:\n",
    "        print(line.strip())"
   ]
  },
  {
   "cell_type": "code",
   "execution_count": 6,
   "metadata": {},
   "outputs": [
    {
     "name": "stdout",
     "output_type": "stream",
     "text": [
      "Number of key-value pairs: 4\n",
      "name:Johnny Bravo\n",
      "employer:Disney\n",
      "degree:MS\n",
      "car:Chevy\n"
     ]
    }
   ],
   "source": [
    "#Step 5: Create a new dictionary\n",
    "New_Dictionary = {\n",
    "    'name' : 'Johnny Bravo',\n",
    "    'employer' : 'MGM',\n",
    "    'degree' : 'MS',\n",
    "    'location' : \"Planet Earth\"\n",
    "}\n",
    "#Step 6: Change employer to Disney\n",
    "New_Dictionary['employer'] = 'Disney'\n",
    "\n",
    "#Step 7: Add a new key-value pair\n",
    "New_Dictionary['car'] = 'Chevy'\n",
    "\n",
    "#Step 8: Delete Location\n",
    "del New_Dictionary['location']\n",
    "\n",
    "#Step 9: Check the number of pairs in the dictionary\n",
    "num_pairs = len(New_Dictionary)\n",
    "print(f\"Number of key-value pairs: {num_pairs}\")\n",
    "\n",
    "#Step 10: Display the list of key-value pairs\n",
    "for key, value in New_Dictionary.items():\n",
    "    print(f\"{key}:{value}\")"
   ]
  }
 ],
 "metadata": {
  "kernelspec": {
   "display_name": ".venv",
   "language": "python",
   "name": "python3"
  },
  "language_info": {
   "codemirror_mode": {
    "name": "ipython",
    "version": 3
   },
   "file_extension": ".py",
   "mimetype": "text/x-python",
   "name": "python",
   "nbconvert_exporter": "python",
   "pygments_lexer": "ipython3",
   "version": "3.12.5"
  }
 },
 "nbformat": 4,
 "nbformat_minor": 2
}
