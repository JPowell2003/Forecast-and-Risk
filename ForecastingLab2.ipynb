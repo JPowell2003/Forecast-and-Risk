{
 "cells": [
  {
   "cell_type": "code",
   "execution_count": 2,
   "metadata": {},
   "outputs": [
    {
     "name": "stdout",
     "output_type": "stream",
     "text": [
      "Requirement already satisfied: numpy in c:\\users\\alipo\\onedrive\\desktop\\jupyter in vs code\\.venv\\lib\\site-packages (2.1.1)\n"
     ]
    }
   ],
   "source": [
    "!pip install numpy\n",
    "import numpy as np"
   ]
  },
  {
   "cell_type": "markdown",
   "metadata": {},
   "source": [
    "###Question 1"
   ]
  },
  {
   "cell_type": "code",
   "execution_count": 3,
   "metadata": {},
   "outputs": [
    {
     "name": "stdout",
     "output_type": "stream",
     "text": [
      "[ 5  6  7  8  9 10 11 12 13 14 15 16 17 18 19 20]\n"
     ]
    }
   ],
   "source": [
    "#Create a 1D array from 5 to 20\n",
    "array_1D = np.arange(5, 21)\n",
    "print(array_1D)"
   ]
  },
  {
   "cell_type": "markdown",
   "metadata": {},
   "source": [
    "###Question 2"
   ]
  },
  {
   "cell_type": "code",
   "execution_count": 4,
   "metadata": {},
   "outputs": [
    {
     "name": "stdout",
     "output_type": "stream",
     "text": [
      "[ 6  8 10 12 14 16 18 20]\n"
     ]
    }
   ],
   "source": [
    "#Extract all even numbers from array\n",
    "even_numbers = array_1D[array_1D % 2 == 0]\n",
    "print(even_numbers)"
   ]
  },
  {
   "cell_type": "markdown",
   "metadata": {},
   "source": [
    "###Question 3"
   ]
  },
  {
   "cell_type": "code",
   "execution_count": 5,
   "metadata": {},
   "outputs": [
    {
     "name": "stdout",
     "output_type": "stream",
     "text": [
      "[ 0  6  0  8  0 10  0 12  0 14  0 16  0 18  0 20]\n"
     ]
    }
   ],
   "source": [
    "#Replace all odd numbers in array with 0 using conditions\n",
    "array_1D[array_1D % 2 != 0] = 0\n",
    "print(array_1D)"
   ]
  },
  {
   "cell_type": "markdown",
   "metadata": {},
   "source": [
    "###Question 4"
   ]
  },
  {
   "cell_type": "code",
   "execution_count": 6,
   "metadata": {},
   "outputs": [
    {
     "name": "stdout",
     "output_type": "stream",
     "text": [
      "[[False False False False]\n",
      " [False False False False]\n",
      " [False False False False]]\n"
     ]
    }
   ],
   "source": [
    "#Create a 3 by 4 NumPy array of all False's\n",
    "false_array = np.full((3,4), False)\n",
    "print(false_array)"
   ]
  },
  {
   "cell_type": "markdown",
   "metadata": {},
   "source": [
    "###Question 5"
   ]
  },
  {
   "cell_type": "code",
   "execution_count": 7,
   "metadata": {},
   "outputs": [
    {
     "name": "stdout",
     "output_type": "stream",
     "text": [
      "[[ 0  6  0  8  0 10  0 12]\n",
      " [ 0 14  0 16  0 18  0 20]]\n"
     ]
    }
   ],
   "source": [
    "#Convert array_1D into a 2D array with 2 rows\n",
    "array_2D = array_1D.reshape(2, -1)\n",
    "print(array_2D)"
   ]
  },
  {
   "cell_type": "markdown",
   "metadata": {},
   "source": [
    "###Question 6"
   ]
  },
  {
   "cell_type": "code",
   "execution_count": 8,
   "metadata": {},
   "outputs": [
    {
     "name": "stdout",
     "output_type": "stream",
     "text": [
      "[2 3 4 7]\n"
     ]
    }
   ],
   "source": [
    "#Common items between arrays\n",
    "arr1=np.array([1,2,3,4,5,6,7])\n",
    "arr2=np.array([7,2,10,3,4,9,10,8])\n",
    "common_items = np.intersect1d(arr1, arr2)\n",
    "print(common_items)"
   ]
  },
  {
   "cell_type": "markdown",
   "metadata": {},
   "source": [
    "###Question 7"
   ]
  },
  {
   "cell_type": "code",
   "execution_count": 9,
   "metadata": {},
   "outputs": [
    {
     "name": "stdout",
     "output_type": "stream",
     "text": [
      "[ 6  9 10]\n"
     ]
    }
   ],
   "source": [
    "#Get all items between 5 and 10 from arr\n",
    "arr = np.array([2,6,1,9,10,3,27])\n",
    "arr_filter = arr[(arr >= 5) & (arr <= 10)]\n",
    "print(arr_filter)"
   ]
  },
  {
   "cell_type": "markdown",
   "metadata": {},
   "source": [
    "###Question 8"
   ]
  },
  {
   "cell_type": "code",
   "execution_count": 10,
   "metadata": {},
   "outputs": [
    {
     "name": "stdout",
     "output_type": "stream",
     "text": [
      "[[10  9 11  8]\n",
      " [ 7  9  7 11]\n",
      " [ 9 11 11  7]]\n"
     ]
    }
   ],
   "source": [
    "#Using random to create an array with floats between 6 and 12\n",
    "Random_Array = np.random.randint(6, 12, (3,4))\n",
    "print(Random_Array)"
   ]
  },
  {
   "cell_type": "markdown",
   "metadata": {},
   "source": [
    "###Question 9 and 10"
   ]
  },
  {
   "cell_type": "code",
   "execution_count": 11,
   "metadata": {},
   "outputs": [
    {
     "name": "stdout",
     "output_type": "stream",
     "text": [
      "[ 9 10 18 22 37 74 75 98]\n",
      "[98 75 74 37 22 18 10  9]\n"
     ]
    }
   ],
   "source": [
    "#Create and sort an array of integers\n",
    "#Sort a 1D array\n",
    "New_Array = np.array([9, 10, 22, 75, 74, 37, 18, 98])\n",
    "sort_array = np.sort(New_Array)\n",
    "print(sort_array)\n",
    "\n",
    "#sort descending\n",
    "sorted_array = np.sort(New_Array)[::-1]\n",
    "print(sorted_array)"
   ]
  },
  {
   "cell_type": "code",
   "execution_count": 13,
   "metadata": {},
   "outputs": [
    {
     "name": "stdout",
     "output_type": "stream",
     "text": [
      "[98 75 74 37 22 18 10  9]\n",
      "[[75 22 10  9]\n",
      " [98 74 37 18]]\n"
     ]
    }
   ],
   "source": [
    "#Wanted to test out sorting a 2 by 4 array\n",
    "New_2D_Array = np.array([[9, 10, 22, 75], [74, 37, 18, 98]])\n",
    "array_Sort = np.sort(New_2D_Array)\n",
    "print(sorted_array)\n",
    "\n",
    "#sort descending\n",
    "Desc_sorted_array = np.sort(New_2D_Array)[:,::-1]\n",
    "print(Desc_sorted_array)"
   ]
  },
  {
   "cell_type": "code",
   "execution_count": null,
   "metadata": {},
   "outputs": [],
   "source": []
  }
 ],
 "metadata": {
  "kernelspec": {
   "display_name": ".venv",
   "language": "python",
   "name": "python3"
  },
  "language_info": {
   "codemirror_mode": {
    "name": "ipython",
    "version": 3
   },
   "file_extension": ".py",
   "mimetype": "text/x-python",
   "name": "python",
   "nbconvert_exporter": "python",
   "pygments_lexer": "ipython3",
   "version": "3.12.5"
  }
 },
 "nbformat": 4,
 "nbformat_minor": 2
}
